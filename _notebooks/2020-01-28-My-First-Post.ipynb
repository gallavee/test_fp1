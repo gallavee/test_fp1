{
 "cells": [
  {
   "cell_type": "markdown",
   "metadata": {},
   "source": [
    "# My Test Blog Post\n",
    "> A tutorial of fastpages for Jupyter notebooks.\n",
    "\n",
    "- toc: true \n",
    "- badges: true\n",
    "- comments: true\n",
    "- categories: [jupyter]\n",
    "- image: images/chart-preview.pn"
   ]
  },
  {
   "cell_type": "code",
   "execution_count": 39,
   "metadata": {},
   "outputs": [
    {
     "name": "stdout",
     "output_type": "stream",
     "text": [
      "converting: /Users/glavee/repos/test_fp1/_notebooks/2020-02-20-test.ipynb\n",
      "converting: /Users/glavee/repos/test_fp1/_notebooks/2020-01-28-My-First-Post.ipynb\n"
     ]
    }
   ],
   "source": [
    "from datetime import datetime\n",
    "import re, os, logging\n",
    "from nbdev import export2html\n",
    "from nbdev.export2html import Config, Path, _re_digits, _to_html, _re_block_notes\n",
    "# from fast_template import rename_for_jekyll\n",
    "\n",
    "warnings = set()\n",
    "    \n",
    "# Modify the naming process such that destination files get named properly for Jekyll _posts\n",
    "def _nb2htmlfname(nb_path, dest=None): \n",
    "    fname = rename_for_jekyll(nb_path, warnings=warnings)\n",
    "    if dest is None: dest = Config().doc_path\n",
    "    return Path(dest)/fname\n",
    "\n",
    "# TODO: Open a GitHub Issue in addition to printing warnings\n",
    "for original, new in warnings:\n",
    "    print(f'{original} has been renamed to {new} to be complaint with Jekyll naming conventions.\\n')\n",
    "    \n",
    "## apply monkey patches\n",
    "export2html._nb2htmlfname = _nb2htmlfname\n",
    "export2html.notebook2html(fname='/Users/glavee/repos/test_fp1/_notebooks/*.ipynb',\n",
    "                          dest='/Users/glavee/repos/test_fp1/_posts/', \n",
    "                          template_file='/Users/glavee/repos/test_fp1/_action_files/fastpages.tpl',)"
   ]
  }
 ],
 "metadata": {
  "kernelspec": {
   "display_name": "Python (p37)",
   "language": "python",
   "name": "p37"
  },
  "language_info": {
   "codemirror_mode": {
    "name": "ipython",
    "version": 3
   },
   "file_extension": ".py",
   "mimetype": "text/x-python",
   "name": "python",
   "nbconvert_exporter": "python",
   "pygments_lexer": "ipython3",
   "version": "3.7.1"
  }
 },
 "nbformat": 4,
 "nbformat_minor": 2
}
